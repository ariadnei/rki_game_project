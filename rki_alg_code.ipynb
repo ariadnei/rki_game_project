{
 "cells": [
  {
   "cell_type": "code",
   "execution_count": 1,
   "metadata": {},
   "outputs": [],
   "source": [
    "import sqlite3\n",
    "import random\n",
    "import pandas as pd"
   ]
  },
  {
   "cell_type": "code",
   "execution_count": 2,
   "metadata": {},
   "outputs": [],
   "source": [
    "db = sqlite3.connect('test.db') \n",
    "c = db.cursor() "
   ]
  },
  {
   "cell_type": "markdown",
   "metadata": {},
   "source": [
    "## Start"
   ]
  },
  {
   "cell_type": "code",
   "execution_count": 3,
   "metadata": {},
   "outputs": [],
   "source": [
    "level, category = 1, 1\n",
    "questions_total, rating = 0, 0\n",
    "prev_qs = set()\n",
    "user_results = {}"
   ]
  },
  {
   "cell_type": "markdown",
   "metadata": {},
   "source": [
    "Функция подбора вопроса (рандомный выбор вопроса нужного уровня из нужной категории + исключение повторения вопросов)"
   ]
  },
  {
   "cell_type": "code",
   "execution_count": 4,
   "metadata": {},
   "outputs": [],
   "source": [
    "def choose_question(category, level, prev_qs):\n",
    "    db_query = 'SELECT * from Questions WHERE id_level=\"{}\" AND id_category=\"{}\"'.format(level, category)\n",
    "    q_list = [q for q in list(c.execute(db_query)) if q[0] not in prev_qs]\n",
    "    question = random.choice(q_list)\n",
    "    prev_qs.add(question[0])\n",
    "    return question, prev_qs"
   ]
  },
  {
   "cell_type": "markdown",
   "metadata": {},
   "source": [
    "Функция вывода вопроса и проверки ответа пользователя"
   ]
  },
  {
   "cell_type": "code",
   "execution_count": 5,
   "metadata": {},
   "outputs": [],
   "source": [
    "def ask_question(rating, category, level, prev_qs):\n",
    "    question = list(choose_question(category, level, prev_qs)[0])\n",
    "    name_q = question[1]\n",
    "    i = 1\n",
    "    var_q = []\n",
    "    for v in question[2].split('/'):\n",
    "        var_q.append(str(i) + ') ' + v + '\\n')  #формируем красивый список вариантов ответа\n",
    "        i += 1\n",
    "    ans = question[3]\n",
    "    print(name_q + '\\n' + ''.join(var_q))\n",
    "    user_ans = int(input())\n",
    "    if user_ans == ans:\n",
    "        print('Ответ верный!')\n",
    "        rating += 1\n",
    "    else:\n",
    "        print('Ответ неверный!')\n",
    "        if rating > 0:\n",
    "            rating = rating - 1  #за неправильный ответ понижаем рейтинг, если он не 0\n",
    "    return rating"
   ]
  },
  {
   "cell_type": "markdown",
   "metadata": {},
   "source": [
    "Функция проверки рейтинга и перехода на новый уровень, если рейтинг 2 "
   ]
  },
  {
   "cell_type": "code",
   "execution_count": 6,
   "metadata": {},
   "outputs": [],
   "source": [
    "def check_rating(rating, level):\n",
    "    if rating >= 2:\n",
    "        level += 1\n",
    "        print('Ура! Ты перешел на новый уровень!')\n",
    "        rating = 0  #на новом уровне рейтинг обнуляется\n",
    "    return level, rating"
   ]
  },
  {
   "cell_type": "markdown",
   "metadata": {},
   "source": [
    "Функция определения финального результата по итогам каждой категории"
   ]
  },
  {
   "cell_type": "code",
   "execution_count": 7,
   "metadata": {},
   "outputs": [],
   "source": [
    "def get_final(user_results):\n",
    "    defined_results = {}\n",
    "    for r in user_results:\n",
    "        if user_results[r] == 1:\n",
    "            defined_results[r] = 'A0 (начальный уровень)'\n",
    "        elif user_results[r] == 2:\n",
    "            defined_results[r] = 'A1 (элементарный уровень)'\n",
    "        elif user_results[r] == 3:\n",
    "            defined_results[r] = 'А2 (предпороговый уровень)'\n",
    "        elif user_results[r] == 4:\n",
    "            defined_results[r] = 'B1 (пороговый уровень)'\n",
    "        elif user_results[r] == 5:\n",
    "            defined_results[r] = 'B2 (повышенный уровень)'\n",
    "        elif user_results[r] == 6:\n",
    "            defined_results[r] = 'C1 (продвинутый уровень)'\n",
    "    return defined_results"
   ]
  },
  {
   "cell_type": "code",
   "execution_count": null,
   "metadata": {},
   "outputs": [],
   "source": [
    "while category <= 3:\n",
    "    while questions_total < 12:\n",
    "        rating = ask_question(rating, category, level, prev_qs)\n",
    "        level, rating = check_rating(rating, level)\n",
    "        questions_total += 1\n",
    "        print('Total: ' + str(questions_total))\n",
    "    print('Молодец! Ты закончил категорию' + str(category))\n",
    "    if rating == 0 and level>1:\n",
    "        level = level-1  #если на вопросы последнего уровня сложности пользователь вообще не ответил, то считаем, что на этот уровень он пока не дошел\n",
    "    user_results[str(category)] = level  #записываем результат категории\n",
    "    category += 1\n",
    "    rating, questions_total = 0, 0\n",
    "    level = 1\n",
    "\n",
    "final_results = get_final(user_results)\n",
    "print('Невероятно! Ты прошел этот тест! Вот твои результаты:')\n",
    "print('Орфография и орфоэпия: ' + final_results['1'])\n",
    "print('Морфология: ' + final_results['2'])\n",
    "print('Синтаксис и словоупотребление: ' + final_results['3'])"
   ]
  },
  {
   "cell_type": "code",
   "execution_count": null,
   "metadata": {},
   "outputs": [],
   "source": []
  }
 ],
 "metadata": {
  "kernelspec": {
   "display_name": "Python 3",
   "language": "python",
   "name": "python3"
  },
  "language_info": {
   "codemirror_mode": {
    "name": "ipython",
    "version": 3
   },
   "file_extension": ".py",
   "mimetype": "text/x-python",
   "name": "python",
   "nbconvert_exporter": "python",
   "pygments_lexer": "ipython3",
   "version": "3.6.4"
  }
 },
 "nbformat": 4,
 "nbformat_minor": 2
}
